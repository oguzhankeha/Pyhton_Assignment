{
 "cells": [
  {
   "cell_type": "code",
   "execution_count": null,
   "metadata": {},
   "outputs": [],
   "source": [
    "for i in range(1,101):\n",
    "    if i%3==0 and i%5==0:\n",
    "        print(i, \"is FizzBuzz\")\n",
    "    elif i%3==0:\n",
    "        print(i, \"is Fizz\")\n",
    "    elif i%5 == 0:\n",
    "        print(i, \"is Buzz\")\n",
    "    \n",
    "    else:\n",
    "        print(i)\n",
    "print(list(i))"
   ]
  }
 ],
 "metadata": {
  "language_info": {
   "codemirror_mode": {
    "name": "ipython",
    "version": 3
   },
   "file_extension": ".py",
   "mimetype": "text/x-python",
   "name": "python",
   "nbconvert_exporter": "python",
   "pygments_lexer": "ipython3",
   "version": 3
  },
  "orig_nbformat": 2
 },
 "nbformat": 4,
 "nbformat_minor": 2
}