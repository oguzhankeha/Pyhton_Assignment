{
 "metadata": {
  "language_info": {
   "codemirror_mode": {
    "name": "ipython",
    "version": 3
   },
   "file_extension": ".py",
   "mimetype": "text/x-python",
   "name": "python",
   "nbconvert_exporter": "python",
   "pygments_lexer": "ipython3",
   "version": 3
  },
  "orig_nbformat": 2
 },
 "nbformat": 4,
 "nbformat_minor": 2,
 "cells": [
  {
   "cell_type": "code",
   "execution_count": null,
   "metadata": {},
   "outputs": [],
   "source": [
    "def fib(n):\n",
    "    a, b = 0, 1\n",
    "\n",
    "    while a < n:\n",
    "        print(a, end=' ')\n",
    "        a ,b = b, a+b\n",
    "\n",
    "fib(500)"
   ]
  },
  {
   "cell_type": "code",
   "execution_count": null,
   "metadata": {},
   "outputs": [],
   "source": [
    "x = []\n",
    "a = 0\n",
    "b = 1\n",
    "sum = 1\n",
    "\n",
    "while a <= 55:\n",
    "    x.append(a)\n",
    "    a = b \n",
    "    b = sum\n",
    "    sum = a+b \n",
    "              \n",
    "print(x)"
   ]
  }
 ]
}