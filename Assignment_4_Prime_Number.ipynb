{
 "cells": [
  {
   "cell_type": "code",
   "execution_count": null,
   "metadata": {},
   "outputs": [],
   "source": [
    "#prime number assignment\n",
    "number = int(input(\"Please write any number to check the number is prime or not:   \"))\n",
    "\n",
    "if number > 1:\n",
    "    for i in range(2,number):\n",
    "        if (number % i) == 0:\n",
    "            print(f\"{number} is not a prime number\")\n",
    "            break\n",
    "    else:\n",
    "        print(f\"{number} a prime number\")\n",
    "            \n",
    "else:\n",
    "    print(f\"{number} is not a prime number\")"
   ]
  },
  {
   "cell_type": "code",
   "execution_count": null,
   "metadata": {},
   "outputs": [],
   "source": [
    "number = int(input(\"Please write any number to check the number is prime or not:   \"))\n",
    "sayac = 0\n",
    "if number > 1:\n",
    "    for i in range(2,number):\n",
    "        if (number % i) == 0:\n",
    "            sayac += 1 \n",
    "            if sayac >= 1:\n",
    "                print(f\"{number} not prime number\")\n",
    "                break\n",
    "    else:\n",
    "        print(f\"{number} is a prime number\")\n",
    "       \n",
    "else:\n",
    "    print(\"not prime\")"
   ]
  }
 ],
 "metadata": {
  "language_info": {
   "codemirror_mode": {
    "name": "ipython",
    "version": 3
   },
   "file_extension": ".py",
   "mimetype": "text/x-python",
   "name": "python",
   "nbconvert_exporter": "python",
   "pygments_lexer": "ipython3",
   "version": 3
  },
  "orig_nbformat": 2
 },
 "nbformat": 4,
 "nbformat_minor": 2
}