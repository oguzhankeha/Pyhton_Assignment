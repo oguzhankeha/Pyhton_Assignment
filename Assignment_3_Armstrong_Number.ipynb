{
 "cells": [
  {
   "cell_type": "code",
   "execution_count": null,
   "metadata": {},
   "outputs": [],
   "source": [
    "control_var = True\n",
    "while control_var:\n",
    "    i = input(\"Enter the number : \")\n",
    "    if '.' in i:\n",
    "        print(\"Please enter an integer number! \")\n",
    "        continue\n",
    "    elif i[0] == '-':\n",
    "        print(\"Please enter a positive number! \")\n",
    "        continue\n",
    "    elif not i.isdigit():\n",
    "        print(\"Please enter only numbers! \")\n",
    "        continue\n",
    "    else:\n",
    "        control_var = False\n",
    "n = len(i)\n",
    "toplam = 0\n",
    "for k in i:\n",
    "    x = int(k)**n\n",
    "    toplam += x\n",
    "if toplam == int(i):\n",
    "    print(f\"{i} is Armstrong Number\")\n",
    "else:\n",
    "    print(f\"{i} is not an Armstrong number\")\n"
   ]
  }
 ],
 "metadata": {
  "language_info": {
   "codemirror_mode": {
    "name": "ipython",
    "version": 3
   },
   "file_extension": ".py",
   "mimetype": "text/x-python",
   "name": "python",
   "nbconvert_exporter": "python",
   "pygments_lexer": "ipython3",
   "version": 3
  },
  "orig_nbformat": 2
 },
 "nbformat": 4,
 "nbformat_minor": 2
}