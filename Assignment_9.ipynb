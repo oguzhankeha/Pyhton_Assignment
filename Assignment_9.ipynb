{
 "metadata": {
  "language_info": {
   "codemirror_mode": {
    "name": "ipython",
    "version": 3
   },
   "file_extension": ".py",
   "mimetype": "text/x-python",
   "name": "python",
   "nbconvert_exporter": "python",
   "pygments_lexer": "ipython3",
   "version": 3
  },
  "orig_nbformat": 2
 },
 "nbformat": 4,
 "nbformat_minor": 2,
 "cells": [
  {
   "cell_type": "code",
   "execution_count": null,
   "metadata": {},
   "outputs": [],
   "source": [
    "word = input(\"write a sentence:  \")     #assignment Letters count\n",
    "word_dict = dict()\n",
    "for i in word:\n",
    "   word_dict.update({i:word.count(i)})\n",
    "print(word_dict)"
   ]
  }
 ]
}