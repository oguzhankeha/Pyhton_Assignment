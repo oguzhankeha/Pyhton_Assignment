{
 "metadata": {
  "language_info": {
   "codemirror_mode": {
    "name": "ipython",
    "version": 3
   },
   "file_extension": ".py",
   "mimetype": "text/x-python",
   "name": "python",
   "nbconvert_exporter": "python",
   "pygments_lexer": "ipython3",
   "version": 3
  },
  "orig_nbformat": 2
 },
 "nbformat": 4,
 "nbformat_minor": 2,
 "cells": [
  {
   "cell_type": "code",
   "execution_count": null,
   "metadata": {},
   "outputs": [],
   "source": [
    "leap_year = int(input(\"please write a year:  \"))\n",
    "if (leap_year%4 == 0 and leap_year%100 != 0) or leap_year%400 == 0:\n",
    "    print(f\"{leap_year} is a leapyear\")\n",
    "else:\n",
    "    print(f\"{leap_year} is not a leap year\")\n",
    "    "
   ]
  }
 ]
}