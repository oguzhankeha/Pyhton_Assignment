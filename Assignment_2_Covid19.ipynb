{
 "cells": [
  {
   "cell_type": "code",
   "execution_count": null,
   "metadata": {},
   "outputs": [],
   "source": [
    "age = input(\"Are you a cigarette addict older than 75 years old? Yes or No : \").title().strip() == \"Yes\"\n",
    "chronic = input(\"Do you have a severe chronic disease? Yes or No : \").title().strip() == \"Yes\"\n",
    "immune = input(\"Is your immune system too weak? Yes or No : \").title().strip() == \"Yes\"\n",
    "if age or chronic or immune == True:\n",
    "    print(\"You are in risky group\")\n",
    "\n",
    "else:\n",
    "    print(\"You are not in risky group\")"
   ]
  }
 ],
 "metadata": {
  "language_info": {
   "codemirror_mode": {
    "name": "ipython",
    "version": 3
   },
   "file_extension": ".py",
   "mimetype": "text/x-python",
   "name": "python",
   "nbconvert_exporter": "python",
   "pygments_lexer": "ipython3",
   "version": 3
  },
  "orig_nbformat": 2
 },
 "nbformat": 4,
 "nbformat_minor": 2
}